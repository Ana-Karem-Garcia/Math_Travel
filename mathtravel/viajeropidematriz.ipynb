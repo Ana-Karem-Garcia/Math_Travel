{
  "nbformat": 4,
  "nbformat_minor": 0,
  "metadata": {
    "colab": {
      "provenance": []
    },
    "kernelspec": {
      "name": "python3",
      "display_name": "Python 3"
    },
    "language_info": {
      "name": "python"
    }
  },
  "cells": [
    {
      "cell_type": "code",
      "execution_count": 1,
      "metadata": {
        "colab": {
          "base_uri": "https://localhost:8080/"
        },
        "id": "MyzsI0BUIy6p",
        "outputId": "85a82d47-ad7e-4fbe-b34d-ddfc97ad85d5"
      },
      "outputs": [
        {
          "output_type": "stream",
          "name": "stdout",
          "text": [
            "Collecting git+https://github.com/Ana-Karem-Garcia/Math_Travel\n",
            "  Cloning https://github.com/Ana-Karem-Garcia/Math_Travel to /tmp/pip-req-build-ek0993uz\n",
            "  Running command git clone --filter=blob:none --quiet https://github.com/Ana-Karem-Garcia/Math_Travel /tmp/pip-req-build-ek0993uz\n",
            "  Resolved https://github.com/Ana-Karem-Garcia/Math_Travel to commit b22a60395e1cb2cf4630e2f4e89030ab8ad09608\n",
            "  Preparing metadata (setup.py) ... \u001b[?25l\u001b[?25hdone\n",
            "Building wheels for collected packages: mathtravel\n",
            "  Building wheel for mathtravel (setup.py) ... \u001b[?25l\u001b[?25hdone\n",
            "  Created wheel for mathtravel: filename=mathtravel-0.1-py3-none-any.whl size=3091 sha256=6c67d5a74c522cdadc997c6297be39ae5e9c4e9f0d91522c3e317eb369b36e8e\n",
            "  Stored in directory: /tmp/pip-ephem-wheel-cache-jf3k14db/wheels/45/60/6c/372a22d665f4fc53759f47ff7c75a3862a3b9b8bef378da294\n",
            "Successfully built mathtravel\n",
            "Installing collected packages: mathtravel\n",
            "Successfully installed mathtravel-0.1\n"
          ]
        }
      ],
      "source": [
        "! pip install git+https://github.com/Ana-Karem-Garcia/Math_Travel"
      ]
    },
    {
      "cell_type": "code",
      "source": [
        "from mathtravel import agente_viajero_poda\n",
        "from mathtravel import imprime_pide\n",
        "\n",
        "ciudades = eval(input('El numero de ciudades es: '))\n",
        "matriz_costo = eval(input('La matriz de costos es: '))\n",
        "costo_optimo, ruta_optima = agente_viajero_poda(ciudades, matriz_costo)\n",
        "imprime_pide(costo_optimo, ruta_optima)"
      ],
      "metadata": {
        "colab": {
          "base_uri": "https://localhost:8080/"
        },
        "id": "4oNLtwHcI0As",
        "outputId": "03763c11-67ab-4698-a767-3cdff2ad365b"
      },
      "execution_count": 2,
      "outputs": [
        {
          "output_type": "stream",
          "name": "stdout",
          "text": [
            "El numero de ciudades es: 10\n",
            "La matriz de costos es: [[0,58,72,55,45,64,62,79,39,66] ,[58,0,27,33,59,65,70,48,39,50] ,[72,27,0,46,52,44,21,40,62,89] ,[55,33,46,0,39,48,66,68,56,75] ,[45,59,52,39,0,55,72,33,52,18] ,[64,65,44,48,55,0,89,58,54,38] ,[62,70,21,66,72,89,0,56,53,66] ,[79,48,40,68,33,58,56,0,26,55] ,[39,39,62,56,52,54,53,26,0,56] ,[66,50,89,75,18,38,66,55,56,0]]\n",
            "Costo óptimo: 345\n",
            "Ruta óptima: (0, 6, 2, 1, 3, 5, 9, 4, 7, 8, 0)\n"
          ]
        }
      ]
    }
  ]
}