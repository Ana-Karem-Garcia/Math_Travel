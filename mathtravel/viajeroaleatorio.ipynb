{
  "nbformat": 4,
  "nbformat_minor": 0,
  "metadata": {
    "colab": {
      "provenance": []
    },
    "kernelspec": {
      "name": "python3",
      "display_name": "Python 3"
    },
    "language_info": {
      "name": "python"
    }
  },
  "cells": [
    {
      "cell_type": "code",
      "execution_count": 2,
      "metadata": {
        "colab": {
          "base_uri": "https://localhost:8080/"
        },
        "id": "x7u_nlMfFL1V",
        "outputId": "6f741caa-c1fb-4898-e5e8-64a1114240df"
      },
      "outputs": [
        {
          "output_type": "stream",
          "name": "stdout",
          "text": [
            "Collecting git+https://github.com/Ana-Karem-Garcia/Math_Travel\n",
            "  Cloning https://github.com/Ana-Karem-Garcia/Math_Travel to /tmp/pip-req-build-kl1v9h8r\n",
            "  Running command git clone --filter=blob:none --quiet https://github.com/Ana-Karem-Garcia/Math_Travel /tmp/pip-req-build-kl1v9h8r\n",
            "  Resolved https://github.com/Ana-Karem-Garcia/Math_Travel to commit 676430bf616161dbb14c6f3467e3858fdc4b2cdd\n",
            "  Preparing metadata (setup.py) ... \u001b[?25l\u001b[?25hdone\n",
            "Building wheels for collected packages: mathtravel\n",
            "  Building wheel for mathtravel (setup.py) ... \u001b[?25l\u001b[?25hdone\n",
            "  Created wheel for mathtravel: filename=mathtravel-0.1-py3-none-any.whl size=2798 sha256=243887544c302efbfa34cb23d260a2c2d2ac72acecaea7d3edfac5526813a00f\n",
            "  Stored in directory: /tmp/pip-ephem-wheel-cache-85rc_ep_/wheels/45/60/6c/372a22d665f4fc53759f47ff7c75a3862a3b9b8bef378da294\n",
            "Successfully built mathtravel\n",
            "Installing collected packages: mathtravel\n",
            "Successfully installed mathtravel-0.1\n"
          ]
        }
      ],
      "source": [
        "! pip install git+https://github.com/Ana-Karem-Garcia/Math_Travel"
      ]
    },
    {
      "cell_type": "code",
      "source": [
        "from mathtravel import agente_viajero_poda\n",
        "from mathtravel import generar_matriz\n",
        "from mathtravel import imprime\n",
        "\n",
        "ciudades = 9\n",
        "matriz_costo = generar_matriz(ciudades)\n",
        "\n",
        "costo_optimo, ruta_optima = agente_viajero_poda(ciudades, matriz_costo)\n",
        "imprime(matriz_costo,costo_optimo,ruta_optima)"
      ],
      "metadata": {
        "colab": {
          "base_uri": "https://localhost:8080/"
        },
        "id": "B95Uf7_JFWED",
        "outputId": "af7ccb41-f310-49bf-fc16-27bed7a48097"
      },
      "execution_count": 4,
      "outputs": [
        {
          "output_type": "stream",
          "name": "stdout",
          "text": [
            "La matriz de costos entre ciudades es:\n",
            "[[ 0 36 37 55 71 35 20 51 16]\n",
            " [36  0 65 55 55 93 40 74 35]\n",
            " [37 65  0 80 68 21 25 92 40]\n",
            " [55 55 80  0 77 56 82 48 52]\n",
            " [71 55 68 77  0 44 81 55 62]\n",
            " [35 93 21 56 44  0 55 31 26]\n",
            " [20 40 25 82 81 55  0 62 82]\n",
            " [51 74 92 48 55 31 62  0 30]\n",
            " [16 35 40 52 62 26 82 30  0]]\n",
            "Costo óptimo: 314\n",
            "Ruta óptima: (0, 6, 2, 5, 4, 1, 3, 7, 8, 0)\n"
          ]
        }
      ]
    }
  ]
}