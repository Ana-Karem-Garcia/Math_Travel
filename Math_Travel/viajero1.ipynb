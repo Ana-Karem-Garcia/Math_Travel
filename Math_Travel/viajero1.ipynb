{
  "nbformat": 4,
  "nbformat_minor": 0,
  "metadata": {
    "colab": {
      "provenance": []
    },
    "kernelspec": {
      "name": "python3",
      "display_name": "Python 3"
    },
    "language_info": {
      "name": "python"
    }
  },
  "cells": [
    {
      "cell_type": "code",
      "execution_count": null,
      "metadata": {
        "id": "Usi8u0x926aV"
      },
      "outputs": [],
      "source": [
        "from numpy import np\n",
        "\n",
        "costos=np.array([\n",
        "    [0,10,15],\n",
        "    [10,0,20],\n",
        "    [15,20,0],\n",
        "])\n",
        "\n",
        "def agente_viajero(costos, n):\n",
        "    OptC=9999   #Se da un numero grande porque los gastos no pasan de ese numero y queremos la mas optima\n",
        "    Optx=()\n",
        "    Cl=[]\n",
        "\n",
        "    def viaje(l,curX)\n",
        "        nonlocal OptC, Optx, Cl\n",
        "        if l == n:\n",
        "            C=costos[]\n",
        "\n"
      ]
    },
    {
      "cell_type": "code",
      "source": [
        "import numpy as np\n",
        "\n",
        "costos=np.array([\n",
        "    [0, 10, 15, 50],\n",
        "    [10, 0, 20, 40],\n",
        "    [15, 20, 0, 30],\n",
        "    [50, 40, 30, 0]\n",
        "])\n",
        "\n",
        "def agente_viajero(matriz_costos):\n",
        "    OptC = np.max(matriz_costos)*len(matriz_costos)*2    #costo limite\n",
        "    pesitos = 0     #aqui se guardara el menor dinero a gastar\n",
        "    OptR = ()     #aqui se guardara la mejor ruta\n",
        "    n = len(matriz_costos)\n",
        "    Cl = []\n",
        "\n",
        "    def _agente_aux(l, mejR, mejC):\n",
        "        nonlocal OptC, OptR, Cl\n",
        "        if l == n:\n",
        "            if sum([matriz_costos[i][j]*mejR[i] for i in range(n) for j in range(n)]) < OptC:\n",
        "                pesitos = sum([matriz_costos[i][j]*mejR[i] for i in range(n) for j in range(n)])\n",
        "                OptR = mejR\n",
        "            Cl = []\n",
        "\n",
        "        else:\n",
        "            if mejC < OptC:\n",
        "                Cl = [1,0]\n",
        "            else:\n",
        "                Cl = [0]\n",
        "            for city in Cl:\n",
        "                _agente_aux(l+1, mejR + (city, ), mejC + matriz_costos[l]*city)\n",
        "\n",
        "    _agente_aux(0, (), 0)\n",
        "    return OptR, pesitos\n",
        "\n",
        "agente_viajero(costos)\n"
      ],
      "metadata": {
        "id": "JNXubDQXX62h"
      },
      "execution_count": null,
      "outputs": []
    }
  ]
}