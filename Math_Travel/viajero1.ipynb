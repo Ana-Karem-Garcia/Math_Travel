{
  "nbformat": 4,
  "nbformat_minor": 0,
  "metadata": {
    "colab": {
      "provenance": []
    },
    "kernelspec": {
      "name": "python3",
      "display_name": "Python 3"
    },
    "language_info": {
      "name": "python"
    }
  },
  "cells": [
    {
      "cell_type": "code",
      "execution_count": null,
      "metadata": {
        "id": "Usi8u0x926aV"
      },
      "outputs": [],
      "source": [
        "from numpy import np\n",
        "\n",
        "costos=np.array([\n",
        "    [0,10,15],\n",
        "    [10,0,20],\n",
        "    [15,20,0],\n",
        "])\n",
        "\n",
        "def agente_viajero(costos, numciudades):\n",
        "    OptC=9999   #Se da un numero grande porque los gastos no pasan de ese numero y queremos la mas optima\n",
        "    Optx=()\n",
        "    Cl=[]\n",
        "\n",
        "    def viaje(l,curX)\n",
        "        nonlocal OptC, Optx, Cl\n",
        "        if l == numciudades:\n",
        "            C=costos[]\n",
        "\n"
      ]
    }
  ]
}