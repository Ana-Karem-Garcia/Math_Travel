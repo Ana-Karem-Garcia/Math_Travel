{
  "nbformat": 4,
  "nbformat_minor": 0,
  "metadata": {
    "colab": {
      "provenance": []
    },
    "kernelspec": {
      "name": "python3",
      "display_name": "Python 3"
    },
    "language_info": {
      "name": "python"
    }
  },
  "cells": [
    {
      "cell_type": "code",
      "execution_count": null,
      "metadata": {
        "colab": {
          "base_uri": "https://localhost:8080/"
        },
        "id": "jb5OrsT5_elP",
        "outputId": "cc0da441-e6f1-46a4-b802-4e3e3764f363"
      },
      "outputs": [
        {
          "output_type": "execute_result",
          "data": {
            "text/plain": [
              "25"
            ]
          },
          "metadata": {},
          "execution_count": 1
        }
      ],
      "source": [
        "import numpy as np\n",
        "\n",
        "def recorre_ruta(precios_entre_ciudades, n):\n",
        "    Sp = sum([precios_entre_ciudades[i+1][j+2] for i in range(-1, n-3) for j in range(-1, n-3)])\n",
        "    St = Sp + precios_entre_ciudades[n-1][0]\n",
        "    return St\n",
        "\n",
        "a = np.array([\n",
        "    [0, 10,15],\n",
        "    [10,0,20],\n",
        "    [15,20,0]\n",
        "])\n",
        "\n",
        "recorre_ruta(a,3)"
      ]
    },
    {
      "cell_type": "code",
      "source": [
        "import numpy as np\n",
        "\n",
        "def recorre_ruta(precios_entre_ciudades):\n",
        "    Sp = sum([precios_entre_ciudades[i][j+1] for i in range(len(precios_entre_ciudades)-2) for j in range(len(precios_entre_ciudades)-3)])\n",
        "    St = Sp + precios_entre_ciudades[len(precios_entre_ciudades)-1][0]\n",
        "    return St\n",
        "\n",
        "a = np.array([\n",
        "    [0, 9,15],\n",
        "    [10,0,20],\n",
        "    [13,8,0]\n",
        "])\n",
        "\n",
        "recorre_ruta(a), len(a)"
      ],
      "metadata": {
        "colab": {
          "base_uri": "https://localhost:8080/"
        },
        "id": "vQYbo5QkDzsN",
        "outputId": "0df1cf6f-8b3c-4d5a-d693-ec4de9db5136"
      },
      "execution_count": 19,
      "outputs": [
        {
          "output_type": "execute_result",
          "data": {
            "text/plain": [
              "(13, 3)"
            ]
          },
          "metadata": {},
          "execution_count": 19
        }
      ]
    },
    {
      "cell_type": "code",
      "source": [],
      "metadata": {
        "id": "E9WiDG2eI5YY"
      },
      "execution_count": null,
      "outputs": []
    }
  ]
}