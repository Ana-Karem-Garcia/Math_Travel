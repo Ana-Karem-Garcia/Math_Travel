{
  "nbformat": 4,
  "nbformat_minor": 0,
  "metadata": {
    "colab": {
      "provenance": []
    },
    "kernelspec": {
      "name": "python3",
      "display_name": "Python 3"
    },
    "language_info": {
      "name": "python"
    }
  },
  "cells": [
    {
      "cell_type": "code",
      "execution_count": 12,
      "metadata": {
        "colab": {
          "base_uri": "https://localhost:8080/"
        },
        "id": "jb5OrsT5_elP",
        "outputId": "e2dea1d2-713b-4044-f513-9c1c750d0e89"
      },
      "outputs": [
        {
          "output_type": "execute_result",
          "data": {
            "text/plain": [
              "25"
            ]
          },
          "metadata": {},
          "execution_count": 12
        }
      ],
      "source": [
        "import numpy as np\n",
        "\n",
        "def recorre_ruta(precios_entre_ciudades, n):\n",
        "    Sp = sum([precios_entre_ciudades[i+1][j+2] for i in range(-1, n-3) for j in range(-1, n-3)])\n",
        "    St = Sp + precios_entre_ciudades[n-1][0]\n",
        "    return St\n",
        "\n",
        "a = np.array([\n",
        "    [0, 10,15],\n",
        "    [10,0,20],\n",
        "    [15,20,0]\n",
        "])\n",
        "\n",
        "recorre_ruta(a,3)"
      ]
    }
  ]
}