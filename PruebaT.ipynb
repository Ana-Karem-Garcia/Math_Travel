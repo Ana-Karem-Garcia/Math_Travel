{
  "nbformat": 4,
  "nbformat_minor": 0,
  "metadata": {
    "colab": {
      "provenance": [],
      "authorship_tag": "ABX9TyO4hC/VeZBNblbxHh3fVbpO",
      "include_colab_link": true
    },
    "kernelspec": {
      "name": "python3",
      "display_name": "Python 3"
    },
    "language_info": {
      "name": "python"
    }
  },
  "cells": [
    {
      "cell_type": "markdown",
      "metadata": {
        "id": "view-in-github",
        "colab_type": "text"
      },
      "source": [
        "<a href=\"https://colab.research.google.com/github/Ana-Karem-Garcia/Math_Travel/blob/main/PruebaT.ipynb\" target=\"_parent\"><img src=\"https://colab.research.google.com/assets/colab-badge.svg\" alt=\"Open In Colab\"/></a>"
      ]
    },
    {
      "cell_type": "code",
      "execution_count": 1,
      "metadata": {
        "id": "ibwsrq_B2NkD",
        "colab": {
          "base_uri": "https://localhost:8080/"
        },
        "outputId": "018546d9-ec94-44c9-b6af-c3de18d26e33"
      },
      "outputs": [
        {
          "output_type": "execute_result",
          "data": {
            "text/plain": [
              "(34, (1, 0, 1, 0, 1, 1, 1, 0, 0, 0, 0, 1, 0))"
            ]
          },
          "metadata": {},
          "execution_count": 1
        }
      ],
      "source": [
        "mis_ganancias = (3, 5, 8, 2, 7, 4, 5, 6, 1, 4, 6, 7, 10)\n",
        "mis_pesos = (1, 7, 5, 5, 6, 3, 2, 6, 3, 3, 4, 3, 8)\n",
        "\n",
        "def mochila_poda(pesos, ganancias, capacidad):\n",
        "    max_ganancia = 0\n",
        "    seleccion = ()\n",
        "    n = len(pesos)\n",
        "\n",
        "    def _mochila_auxiliar(i, seleccion_actual, peso_actual, ganancia_actual):\n",
        "        nonlocal max_ganancia, seleccion\n",
        "        if i == n:\n",
        "            if ganancia_actual > max_ganancia:\n",
        "                max_ganancia = ganancia_actual\n",
        "                seleccion = seleccion_actual\n",
        "        else:\n",
        "            if peso_actual + pesos[i] <= capacidad:\n",
        "                _mochila_auxiliar(i + 1, seleccion_actual + (1,), peso_actual + pesos[i], ganancia_actual + ganancias[i])\n",
        "            _mochila_auxiliar(i + 1, seleccion_actual + (0,), peso_actual, ganancia_actual)\n",
        "\n",
        "    _mochila_auxiliar(0, (), 0, 0)\n",
        "    return max_ganancia, seleccion\n",
        "\n",
        "mochila_poda(mis_pesos, mis_ganancias, 20)"
      ]
    },
    {
      "cell_type": "markdown",
      "source": [],
      "metadata": {
        "id": "kzb6shMG2jCW"
      }
    },
    {
      "cell_type": "markdown",
      "source": [
        "AGENTE"
      ],
      "metadata": {
        "id": "xpPq463a2sre"
      }
    }
  ]
}