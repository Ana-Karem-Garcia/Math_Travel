{
  "nbformat": 4,
  "nbformat_minor": 0,
  "metadata": {
    "colab": {
      "provenance": []
    },
    "kernelspec": {
      "name": "python3",
      "display_name": "Python 3"
    },
    "language_info": {
      "name": "python"
    }
  },
  "cells": [
    {
      "cell_type": "code",
      "execution_count": 1,
      "metadata": {
        "colab": {
          "base_uri": "https://localhost:8080/"
        },
        "id": "TJ1FHSlXyHR1",
        "outputId": "5a15221a-cbdd-4caa-8845-bba63c05f54a"
      },
      "outputs": [
        {
          "output_type": "stream",
          "name": "stdout",
          "text": [
            "Collecting git+https://github.com/Ana-Karem-Garcia/Math_Travel\n",
            "  Cloning https://github.com/Ana-Karem-Garcia/Math_Travel to /tmp/pip-req-build-cl_i7tip\n",
            "  Running command git clone --filter=blob:none --quiet https://github.com/Ana-Karem-Garcia/Math_Travel /tmp/pip-req-build-cl_i7tip\n",
            "  Resolved https://github.com/Ana-Karem-Garcia/Math_Travel to commit 28101b901e803ca3fc4926dd4ab43048397208ab\n",
            "  Preparing metadata (setup.py) ... \u001b[?25l\u001b[?25hdone\n",
            "Building wheels for collected packages: MathTravel\n",
            "  Building wheel for MathTravel (setup.py) ... \u001b[?25l\u001b[?25hdone\n",
            "  Created wheel for MathTravel: filename=MathTravel-0.1-py3-none-any.whl size=3469 sha256=d8b5cf5a798b149bab679e7b968c42144d483163e6853628062dd5fdbe5a27bf\n",
            "  Stored in directory: /tmp/pip-ephem-wheel-cache-9g99kb7j/wheels/45/60/6c/372a22d665f4fc53759f47ff7c75a3862a3b9b8bef378da294\n",
            "Successfully built MathTravel\n",
            "Installing collected packages: MathTravel\n",
            "Successfully installed MathTravel-0.1\n"
          ]
        }
      ],
      "source": [
        "! pip install git+https://github.com/Ana-Karem-Garcia/Math_Travel"
      ]
    },
    {
      "cell_type": "code",
      "source": [
        "from MathTravel import agente_viajero_poda\n",
        "from MathTravel import generar_matriz\n",
        "\n",
        "ciudades = 10\n",
        "matriz_costo = generar_matriz(ciudades)\n",
        "\n",
        "costo_optimo, ruta_optima = agente_viajero_poda(ciudades, matriz_costo)\n",
        "print(\"La matriz de costos entre ciudades es:\")\n",
        "print(matriz_costo)\n",
        "print(\"Costo óptimo:\", costo_optimo)\n",
        "print(\"Ruta óptima:\", ruta_optima)"
      ],
      "metadata": {
        "colab": {
          "base_uri": "https://localhost:8080/"
        },
        "id": "MVlk3_dtyKQG",
        "outputId": "c1c62e4f-8781-441f-c2cb-1a401258d5d1"
      },
      "execution_count": 2,
      "outputs": [
        {
          "output_type": "stream",
          "name": "stdout",
          "text": [
            "La matriz de costos entre ciudades es:\n",
            "[[ 0 58 72 55 45 64 62 79 39 66]\n",
            " [58  0 27 33 59 65 70 48 39 50]\n",
            " [72 27  0 46 52 44 21 40 62 89]\n",
            " [55 33 46  0 39 48 66 68 56 75]\n",
            " [45 59 52 39  0 55 72 33 52 18]\n",
            " [64 65 44 48 55  0 89 58 54 38]\n",
            " [62 70 21 66 72 89  0 56 53 66]\n",
            " [79 48 40 68 33 58 56  0 26 55]\n",
            " [39 39 62 56 52 54 53 26  0 56]\n",
            " [66 50 89 75 18 38 66 55 56  0]]\n",
            "Costo óptimo: 345\n",
            "Ruta óptima: (0, 6, 2, 1, 3, 5, 9, 4, 7, 8, 0)\n"
          ]
        }
      ]
    }
  ]
}