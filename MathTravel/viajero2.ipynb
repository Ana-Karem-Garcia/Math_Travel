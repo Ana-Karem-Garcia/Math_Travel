{
  "nbformat": 4,
  "nbformat_minor": 0,
  "metadata": {
    "colab": {
      "provenance": []
    },
    "kernelspec": {
      "name": "python3",
      "display_name": "Python 3"
    },
    "language_info": {
      "name": "python"
    }
  },
  "cells": [
    {
      "cell_type": "code",
      "source": [
        "def calcular_costo(ciudad1, ciudad2, matriz_costos):\n",
        "    return matriz_costos[ciudad1][ciudad2]\n",
        "\n",
        "def agente_viajero_poda(n, matriz_costos):\n",
        "    opt_costo = float('inf')\n",
        "    opt_ruta = ()\n",
        "    OptC = 9999\n",
        "    Optx = ()\n",
        "    Cl = []\n",
        "\n",
        "    def _av_aux(ruta, visitadas, costo_actual, OptC, Optx, Cl, l):\n",
        "        nonlocal opt_costo, opt_ruta\n",
        "        if len(ruta) == n:\n",
        "            costo_actual += calcular_costo(ruta[-1], ruta[0], matriz_costos)\n",
        "            if costo_actual < opt_costo:\n",
        "                opt_costo = costo_actual\n",
        "                opt_ruta = ruta + (ruta[0],)\n",
        "            return\n",
        "\n",
        "        if costo_actual > OptC:\n",
        "            return\n",
        "\n",
        "        for ciudad in range(n):\n",
        "            if ciudad not in visitadas:\n",
        "                nuevo_costo = costo_actual + calcular_costo(ruta[-1], ciudad, matriz_costos) if len(ruta) > 0 else 0\n",
        "                if nuevo_costo < opt_costo:\n",
        "                    _av_aux(ruta + (ciudad,), visitadas.union({ciudad}), nuevo_costo, OptC, Optx, Cl, l + 1)\n",
        "\n",
        "    for ciudad_inicial in range(n):\n",
        "        _av_aux((ciudad_inicial,), {ciudad_inicial}, 0, OptC, Optx, Cl, 0)\n",
        "\n",
        "    return opt_costo, opt_ruta\n",
        "\n",
        "# Ejemplo de uso\n",
        "ciudades = 4\n",
        "matriz_costos = [\n",
        "    [0, 10, 15, 20],\n",
        "    [10, 0, 35, 25],\n",
        "    [15, 35, 0, 30],\n",
        "    [20, 25, 30, 0]\n",
        "]\n",
        "\n",
        "costo_optimo, ruta_optima = agente_viajero_poda(ciudades, matriz_costos)\n",
        "print(\"Costo óptimo:\", costo_optimo)\n",
        "print(\"Ruta óptima:\", ruta_optima)"
      ],
      "metadata": {
        "colab": {
          "base_uri": "https://localhost:8080/"
        },
        "id": "vTcJKoNqICQT",
        "outputId": "9c493cf5-2dac-47bd-98c1-996e5ed3639e"
      },
      "execution_count": 14,
      "outputs": [
        {
          "output_type": "stream",
          "name": "stdout",
          "text": [
            "Costo óptimo: 80\n",
            "Ruta óptima: (0, 1, 3, 2, 0)\n"
          ]
        }
      ]
    }
  ]
}