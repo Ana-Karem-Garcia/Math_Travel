{
  "nbformat": 4,
  "nbformat_minor": 0,
  "metadata": {
    "colab": {
      "provenance": []
    },
    "kernelspec": {
      "name": "python3",
      "display_name": "Python 3"
    },
    "language_info": {
      "name": "python"
    }
  },
  "cells": [
    {
      "cell_type": "code",
      "execution_count": 1,
      "metadata": {
        "id": "bcmAyDj75BB-"
      },
      "outputs": [],
      "source": [
        "\"\"\"\n",
        "Es la funcion principal del recorrido de agente y el costo que va acumulando\n",
        "\"\"\"\n",
        "\n",
        "def agente_viajero_poda(n, matriz_costo):\n",
        "    #función principal, con n el número total de ciudades, matriz de costos entre ciudades\n",
        "    opt_costo = None\n",
        "    opt_ruta = ()\n",
        "    def calcular_costo(ciudad1, ciudad2):\n",
        "        return matriz_costo[ciudad1][ciudad2]\n",
        "\n",
        "    def _av_aux(ruta, visitadas, costo_actual):\n",
        "        nonlocal opt_costo, opt_ruta\n",
        "\n",
        "        if len(ruta) == n:\n",
        "            costo_actual += calcular_costo(ruta[-1], ruta[0])\n",
        "            if opt_costo is None or costo_actual < opt_costo:\n",
        "                opt_costo = costo_actual\n",
        "                opt_ruta = ruta + (ruta[0],)\n",
        "            return\n",
        "\n",
        "        if len(ruta) == 0:\n",
        "            for ciudad in range(n):\n",
        "                _av_aux((ciudad,), {ciudad}, 0)\n",
        "        else:\n",
        "            for ciudad in range(n):\n",
        "                if ciudad not in visitadas:\n",
        "                    nuevo_costo = costo_actual + calcular_costo(ruta[-1], ciudad)\n",
        "                    if opt_costo is None or nuevo_costo < opt_costo:\n",
        "                        _av_aux(ruta + (ciudad,), visitadas.union({ciudad}), nuevo_costo)\n",
        "\n",
        "    _av_aux((), set(), 0)\n",
        "\n",
        "    return opt_costo, opt_ruta"
      ]
    }
  ]
}