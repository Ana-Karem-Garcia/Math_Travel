{
  "nbformat": 4,
  "nbformat_minor": 0,
  "metadata": {
    "colab": {
      "provenance": []
    },
    "kernelspec": {
      "name": "python3",
      "display_name": "Python 3"
    },
    "language_info": {
      "name": "python"
    }
  },
  "cells": [
    {
      "cell_type": "code",
      "execution_count": null,
      "metadata": {
        "id": "kHFd8OT7yx_S"
      },
      "outputs": [],
      "source": [
        "my_profits = (3, 5, 8, 2, 7, 4, 5, 6, 1, 4, 6, 7, 10)\n",
        "my_weights = (1, 7, 5, 5, 6, 3, 2, 6, 3, 3, 4, 3, 8)\n",
        "\n",
        "def knapsack_pruning(weights, profits, capacity):\n",
        "    optP = 0\n",
        "    optX = ()\n",
        "    curP = 0\n",
        "    n = len(weights)\n",
        "    Cl = []\n",
        "\n",
        "    def _knapaux(l, curX, curW):\n",
        "        nonlocal optP, optX, curP, Cl\n",
        "        if l == n:\n",
        "            if sum([profits[i]*curX[i] for i in range(n)]) > optP:\n",
        "                optP = sum([profits[i]*curX[i] for i in range(n)])\n",
        "                optX = curX\n",
        "            Cl = []\n",
        "        else:\n",
        "            if curW + weights[l] <= capacity:\n",
        "                Cl = [1, 0]\n",
        "            else:\n",
        "                Cl = [0]\n",
        "            for x in Cl:\n",
        "                _knapaux(l+1, curX + (x,), curW + weights[l]*x)\n",
        "\n",
        "    _knapaux(0, (), 0)\n",
        "    return optP, optX\n",
        "\n",
        "knapsack_pruning(my_weights, my_profits, 20)"
      ]
    }
  ]
}