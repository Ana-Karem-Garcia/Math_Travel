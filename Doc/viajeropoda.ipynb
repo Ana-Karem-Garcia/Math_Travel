{
  "nbformat": 4,
  "nbformat_minor": 0,
  "metadata": {
    "colab": {
      "provenance": []
    },
    "kernelspec": {
      "name": "python3",
      "display_name": "Python 3"
    },
    "language_info": {
      "name": "python"
    }
  },
  "cells": [
    {
      "cell_type": "code",
      "execution_count": 3,
      "metadata": {
        "id": "SY4YadBi4aaO"
      },
      "outputs": [],
      "source": [
        "\"\"\"\n",
        "Es la funcion principal del recorrido de agente y el costo que va acumulando\n",
        "\"\"\"\n",
        "\n",
        "def agente_viajero_poda(n, matriz_costo):\n",
        "    #función principal, con n el número total de ciudades, matriz de costos entre ciudades\n",
        "    opt_costo = None\n",
        "    #almacena el mejor costo\n",
        "    opt_ruta = ()\n",
        "    #almacena la mejor ruta encontrada\n",
        "    def calcular_costo(ciudad1, ciudad2):\n",
        "        return matriz_costo[ciudad1][ciudad2]\n",
        "\n",
        "    def _av_aux(ruta, visitadas, costo_actual):\n",
        "      #ruta es una tupla que representa la ruta actual que ha sido recorrida\n",
        "      #visitadas un conjunto que almacena las ciudades ya visitadas\n",
        "      #costo_actual es la costo acumulada recorrida hasta ahora\n",
        "      #realiza la busqueda recursiva\n",
        "        nonlocal opt_costo, opt_ruta\n",
        "        #no se consideran como variables locales en esta función\n",
        "\n",
        "        if len(ruta) == n:\n",
        "            # comprueba que se han visitado todas las ciudades\n",
        "            costo_actual += calcular_costo(ruta[-1], ruta[0])\n",
        "             #El simbolo += significa que al numero que ya esta almacenado en la variable de la izquierda, se le suma el nuevo numero que esta a la derecha del mismo\n",
        "             #agregamos el costo de la ultima ciudad en la ruta de vuelta al punto de inicio\n",
        "            if opt_costo is None or costo_actual < opt_costo:\n",
        "                #comprueba si el costo actual es el mejor costo encontrado hasta ahora\n",
        "                opt_costo = costo_actual\n",
        "                #actualiza el mejor costo actual\n",
        "                opt_ruta = ruta + (ruta[0],)\n",
        "                #actualiza la mejor ruta agregando la ciudad del inicio al final de la ruta actual\n",
        "                #ya que tenemos que formar un ciclo que regrese al punto incial\n",
        "            return\n",
        "\n",
        "        # Tratar el caso especial cuando la longitud de la ruta es cero\n",
        "        if len(ruta) == 0:\n",
        "            for ciudad in range(n):\n",
        "                _av_aux((ciudad,), {ciudad}, 0)\n",
        "        else:\n",
        "            for ciudad in range(n):\n",
        "              #este for recorre las ciudades en un rango de 0 a n-1\n",
        "                if ciudad not in visitadas:\n",
        "                  #verificamos que la ciudad actual no ha sido visitada, si ya a sido visitada se omite\n",
        "                    nuevo_costo = costo_actual + calcular_costo(ruta[-1], ciudad)\n",
        "                    #Calcula el costo acumulado hasta la ciudad actual, sumando el costo entre la ultima ciudad en la ruta y la ciudad actual\n",
        "                    if opt_costo is None or nuevo_costo < opt_costo:\n",
        "                     #comprueba si el costo calculado es el mejor que el mejor costo conocido (opt_costo)\n",
        "                     #la condicion opt_costo is none maneja el caso cuando aun no se ha encontrado ninguna solucion\n",
        "                        _av_aux(ruta + (ciudad,), visitadas.union({ciudad}), nuevo_costo)\n",
        "\n",
        "\n",
        "    # Llamada inicial con la ciudad inicial como punto de partida\n",
        "    _av_aux((), set(), 0)\n",
        "\n",
        "    return opt_costo, opt_ruta"
      ]
    }
  ]
}