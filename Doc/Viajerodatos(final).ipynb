{
  "nbformat": 4,
  "nbformat_minor": 0,
  "metadata": {
    "colab": {
      "provenance": []
    },
    "kernelspec": {
      "name": "python3",
      "display_name": "Python 3"
    },
    "language_info": {
      "name": "python"
    }
  },
  "cells": [
    {
      "cell_type": "code",
      "execution_count": 1,
      "metadata": {
        "colab": {
          "base_uri": "https://localhost:8080/"
        },
        "id": "hqGPEFZ-0P4v",
        "outputId": "99860da0-2fd5-408a-ea26-7016ec9674db"
      },
      "outputs": [
        {
          "output_type": "stream",
          "name": "stdout",
          "text": [
            "Collecting git+https://github.com/Ana-Karem-Garcia/Math_Travel\n",
            "  Cloning https://github.com/Ana-Karem-Garcia/Math_Travel to /tmp/pip-req-build-ieeioegw\n",
            "  Running command git clone --filter=blob:none --quiet https://github.com/Ana-Karem-Garcia/Math_Travel /tmp/pip-req-build-ieeioegw\n",
            "  Resolved https://github.com/Ana-Karem-Garcia/Math_Travel to commit 7f059f5432d8944c2df7b74ed3cda6fd4c40d1bc\n",
            "  Preparing metadata (setup.py) ... \u001b[?25l\u001b[?25hdone\n",
            "Building wheels for collected packages: MathTravel\n",
            "  Building wheel for MathTravel (setup.py) ... \u001b[?25l\u001b[?25hdone\n",
            "  Created wheel for MathTravel: filename=MathTravel-0.1-py3-none-any.whl size=3181 sha256=1cebcc06c287b254198a5be19c422a028fcb26dc22585b0c544571eb027c75e8\n",
            "  Stored in directory: /tmp/pip-ephem-wheel-cache-ohj66syk/wheels/45/60/6c/372a22d665f4fc53759f47ff7c75a3862a3b9b8bef378da294\n",
            "Successfully built MathTravel\n",
            "Installing collected packages: MathTravel\n",
            "Successfully installed MathTravel-0.1\n"
          ]
        }
      ],
      "source": [
        "! pip install git+https://github.com/Ana-Karem-Garcia/Math_Travel"
      ]
    },
    {
      "cell_type": "code",
      "source": [
        "from MathTravel import agente_viajero_poda\n",
        "\n",
        "ciudades = eval(input('El numero de ciudades es: '))\n",
        "matriz_costo = eval(input('La matriz de costos es: '))\n",
        "costo_optimo, ruta_optima = agente_viajero_poda(ciudades, matriz_costo)\n",
        "print(\"Costo óptimo:\", costo_optimo)\n",
        "print(\"Ruta óptima:\", ruta_optima)"
      ],
      "metadata": {
        "colab": {
          "base_uri": "https://localhost:8080/"
        },
        "id": "Ex3xGuS20U_Y",
        "outputId": "7de8ee40-689a-4827-d45b-06c1c536b2ed"
      },
      "execution_count": 2,
      "outputs": [
        {
          "output_type": "stream",
          "name": "stdout",
          "text": [
            "El numero de ciudades es: 10\n",
            "La matriz de costos es: [[0,58,72,55,45,64,62,79,39,66] ,[58,0,27,33,59,65,70,48,39,50] ,[72,27,0,46,52,44,21,40,62,89] ,[55,33,46,0,39,48,66,68,56,75] ,[45,59,52,39,0,55,72,33,52,18] ,[64,65,44,48,55,0,89,58,54,38] ,[62,70,21,66,72,89,0,56,53,66] ,[79,48,40,68,33,58,56,0,26,55] ,[39,39,62,56,52,54,53,26,0,56] ,[66,50,89,75,18,38,66,55,56,0]]\n",
            "Costo óptimo: 345\n",
            "Ruta óptima: (0, 6, 2, 1, 3, 5, 9, 4, 7, 8, 0)\n"
          ]
        }
      ]
    }
  ]
}