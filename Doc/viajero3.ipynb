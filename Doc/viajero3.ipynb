{
  "nbformat": 4,
  "nbformat_minor": 0,
  "metadata": {
    "colab": {
      "provenance": []
    },
    "kernelspec": {
      "name": "python3",
      "display_name": "Python 3"
    },
    "language_info": {
      "name": "python"
    }
  },
  "cells": [
    {
      "cell_type": "code",
      "execution_count": 11,
      "metadata": {
        "colab": {
          "base_uri": "https://localhost:8080/"
        },
        "id": "qXasyFDkD21U",
        "outputId": "93c550a0-3e68-48e5-e608-4528c8e19104"
      },
      "outputs": [
        {
          "output_type": "stream",
          "name": "stdout",
          "text": [
            "Collecting git+https://github.com/Ana-Karem-Garcia/Math_Travel\n",
            "  Cloning https://github.com/Ana-Karem-Garcia/Math_Travel to /tmp/pip-req-build-57vtavif\n",
            "  Running command git clone --filter=blob:none --quiet https://github.com/Ana-Karem-Garcia/Math_Travel /tmp/pip-req-build-57vtavif\n",
            "  Resolved https://github.com/Ana-Karem-Garcia/Math_Travel to commit a055590a119a68f8a0c779987d3a37d0a2003518\n",
            "  Preparing metadata (setup.py) ... \u001b[?25l\u001b[?25hdone\n"
          ]
        }
      ],
      "source": [
        "! pip install git+https://github.com/Ana-Karem-Garcia/Math_Travel"
      ]
    },
    {
      "cell_type": "code",
      "source": [
        "from MathTravel import calcular_costo"
      ],
      "metadata": {
        "id": "SgWkvYNuD8rN"
      },
      "execution_count": 5,
      "outputs": []
    },
    {
      "cell_type": "code",
      "source": [
        "from MathTravel import calcular_costo\n",
        "\n",
        "def calcular_costo(ciudad1, ciudad2):\n",
        "    # Función para calcular la distancia entre dos ciudades (puedes personalizar según tu necesidad)\n",
        "    return matriz_costo[ciudad1][ciudad2]\n",
        "\n",
        "\n",
        "\n",
        "def agente_viajero_poda(n, matriz_costo):\n",
        "    #función principal, con n el número total de ciudades, matriz de costos entre ciudades\n",
        "    opt_costo = None\n",
        "    #almacena el mejor costo\n",
        "    opt_ruta = ()\n",
        "    #almacena la mejor ruta encontrada\n",
        "\n",
        "    def _av_aux(ruta, visitadas, costo_actual):\n",
        "      #ruta es una tupla que representa la ruta actual que ha sido recorrida\n",
        "      #visitadas un conjunto que almacena las ciudades ya visitadas\n",
        "      #costo_actual es la costo acumulada recorrida hasta ahora\n",
        "      #realiza la busqueda recursiva\n",
        "        nonlocal opt_costo, opt_ruta\n",
        "        #no se consideran como variables locales en esta función\n",
        "\n",
        "        if len(ruta) == n:\n",
        "            # comprueba que se han visitado todas las ciudades\n",
        "            costo_actual += calcular_costo(ruta[-1], ruta[0])\n",
        "             #El simbolo += significa que al numero que ya esta almacenado en la variable de la izquierda, se le suma el nuevo numero que esta a la derecha del mismo\n",
        "             #agregamos el costo de la ultima ciudad en la ruta de vuelta al punto de inicio\n",
        "            if opt_costo is None or costo_actual < opt_costo:\n",
        "                #comprueba si el costo actual es el mejor costo encontrado hasta ahora\n",
        "                opt_costo = costo_actual\n",
        "                #actualiza el mejor costo actual\n",
        "                opt_ruta = ruta + (ruta[0],)\n",
        "                #actualiza la mejor ruta agregando la ciudad del inicio al final de la ruta actual\n",
        "                #ya que tenemos que formar un ciclo que regrese al punto incial\n",
        "            return\n",
        "\n",
        "        # Tratar el caso especial cuando la longitud de la ruta es cero\n",
        "        if len(ruta) == 0:\n",
        "            for ciudad in range(n):\n",
        "                _av_aux((ciudad,), {ciudad}, 0)\n",
        "        else:\n",
        "            for ciudad in range(n):\n",
        "              #este for recorre las ciudades en un rango de 0 a n-1\n",
        "                if ciudad not in visitadas:\n",
        "                  #verificamos que la ciudad actual no ha sido visitada, si ya a sido visitada se omite\n",
        "                    nuevo_costo = costo_actual + calcular_costo(ruta[-1], ciudad)\n",
        "                    #Calcula el costo acumulado hasta la ciudad actual, sumando el costo entre la ultima ciudad en la ruta y la ciudad actual\n",
        "                    if opt_costo is None or nuevo_costo < opt_costo:\n",
        "                     #comprueba si el costo calculado es el mejor que el mejor costo conocido (opt_costo)\n",
        "                     #la condicion opt_costo is none maneja el caso cuando aun no se ha encontrado ninguna solucion\n",
        "                        _av_aux(ruta + (ciudad,), visitadas.union({ciudad}), nuevo_costo)\n",
        "\n",
        "\n",
        "    # Llamada inicial con la ciudad inicial como punto de partida\n",
        "    _av_aux((), set(), 0)\n",
        "\n",
        "    return opt_costo, opt_ruta\n",
        "\n",
        "# Ejemplo de uso\n",
        "ciudades = 20\n",
        "matriz_costo = [\n",
        "    [0,141,91,75,158,127,98,88,76,52,101,146,84,143,157,89,155,54,134,112]\n",
        ",[141,0,119,56,96,83,129,134,133,148,129,152,155,64,97,30,153,139,79,115]\n",
        ",[91,119,0,59,49,159,88,162,115,80,152,140,80,142,89,93,119,139,135,36]\n",
        ",[75,56,59,0,36,79,75,107,126,81,87,105,92,93,176,116,121,53,78,61]\n",
        ",[158,96,49,36,0,167,157,93,84,85,151,81,127,60,185,63,67,121,172,77]\n",
        ",[127,83,159,79,167,0,121,75,119,123,153,66,111,114,131,109,142,86,128,126]\n",
        ",[98,129,88,75,157,121,0,100,96,73,93,134,125,140,78,177,115,88,70,53]\n",
        ",[88,134,162,107,93,75,100,0,56,138,75,80,107,104,54,91,91,123,90,161]\n",
        ",[76,133,115,126,84,119,96,56,0,70,105,137,151,47,83,175,159,41,96,93]\n",
        ",[52,148,80,81,85,123,73,138,70,0,39,140,109,52,120,157,67,117,102,142]\n",
        ",[101,129,152,87,151,153,93,75,105,39,0,133,113,126,136,156,103,172,98,145]\n",
        ",[146,152,140,105,81,66,134,80,137,140,133,0,89,61,136,92,82,107,96,130]\n",
        ",[84,155,80,92,127,111,125,107,151,109,113,89,0,131,136,104,45,54,71,132]\n",
        ",[143,64,142,93,60,114,140,104,47,52,126,61,131,0,165,130,137,94,49,43]\n",
        ",[157,97,89,176,185,131,78,54,83,120,136,136,136,165,0,164,108,78,88,72]\n",
        ",[89,30,93,116,63,109,177,91,175,157,156,92,104,130,164,0,82,89,108,85]\n",
        ",[155,153,119,121,67,142,115,91,159,67,103,82,45,137,108,82,0,78,100,132]\n",
        ",[54,139,139,53,121,86,88,123,41,117,172,107,54,94,78,89,78,0,126,113]\n",
        ",[134,79,135,78,172,128,70,90,96,102,98,96,71,49,88,108,100,126,0,73]\n",
        ",[112,115,36,61,77,126,53,161,93,142,145,130,132,43,72,85,132,113,73,0]\n",
        "    ]\n",
        "\n",
        "costo_optimo, ruta_optima = agente_viajero_poda(ciudades, matriz_costo)\n",
        "print(\"Costo óptimo:\", costo_optimo)\n",
        "print(\"Ruta óptima:\", ruta_optima)"
      ],
      "metadata": {
        "id": "7l-CVCe2EIIr"
      },
      "execution_count": null,
      "outputs": []
    }
  ]
}