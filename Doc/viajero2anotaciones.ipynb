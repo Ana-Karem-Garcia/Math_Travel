{
  "nbformat": 4,
  "nbformat_minor": 0,
  "metadata": {
    "colab": {
      "provenance": []
    },
    "kernelspec": {
      "name": "python3",
      "display_name": "Python 3"
    },
    "language_info": {
      "name": "python"
    }
  },
  "cells": [
    {
      "cell_type": "code",
      "source": [
        "! pip install git+https://github.com/Ana-Karem-Garcia/Math_Travel"
      ],
      "metadata": {
        "colab": {
          "base_uri": "https://localhost:8080/"
        },
        "id": "bQuQcLwmRCE2",
        "outputId": "77d50f2b-6739-408f-ccd8-21d2889027f9"
      },
      "execution_count": 2,
      "outputs": [
        {
          "output_type": "stream",
          "name": "stdout",
          "text": [
            "Collecting git+https://github.com/Ana-Karem-Garcia/Math_Travel\n",
            "  Cloning https://github.com/Ana-Karem-Garcia/Math_Travel to /tmp/pip-req-build-8hxhmrdz\n",
            "  Running command git clone --filter=blob:none --quiet https://github.com/Ana-Karem-Garcia/Math_Travel /tmp/pip-req-build-8hxhmrdz\n",
            "  Resolved https://github.com/Ana-Karem-Garcia/Math_Travel to commit 7cbaabe1df8ab2d4002738ab76e17846133909da\n",
            "  Preparing metadata (setup.py) ... \u001b[?25l\u001b[?25hdone\n",
            "Building wheels for collected packages: MathTravel\n",
            "  Building wheel for MathTravel (setup.py) ... \u001b[?25l\u001b[?25hdone\n",
            "  Created wheel for MathTravel: filename=MathTravel-0.1-py3-none-any.whl size=1622 sha256=af452a9263d8291ab3381b959f0902d415bde67e04ffa957a84935e9bc263ee6\n",
            "  Stored in directory: /tmp/pip-ephem-wheel-cache-lrycjalx/wheels/45/60/6c/372a22d665f4fc53759f47ff7c75a3862a3b9b8bef378da294\n",
            "Successfully built MathTravel\n",
            "Installing collected packages: MathTravel\n",
            "Successfully installed MathTravel-0.1\n"
          ]
        }
      ]
    },
    {
      "cell_type": "code",
      "source": [
        "def calcular_costo(ciudad1, ciudad2, matriz_costo):\n",
        "    return matriz_costo[ciudad1][ciudad2]\n",
        "\n",
        "def agente_viajero_poda(n, matriz_costo):\n",
        "    opt_costo = float('inf')\n",
        "    opt_ruta = ()\n",
        "    OptC = 9999\n",
        "     #representar un límite superior o un mejor costo conocido\n",
        "    Optx = ()\n",
        "     #almacenamiento para una posible ruta óptima. Inicializa como una tupla vacía\n",
        "    Cl = []\n",
        "     #lista vacía inicializada\n",
        "\n",
        "    def _av_aux(ruta, visitadas, costo_actual, OptC, Optx, Cl, l):\n",
        "      #ruta es una tupla que representa la ruta actual que ha sido recorrida\n",
        "      #visitadas un conjunto que almacena las ciudades ya visitadas\n",
        "      #costo_actual es la costo acumulada recorrida hasta ahora\n",
        "      #parece ser una variable que lleva la cuenta del nivel actual de la recursión\n",
        "      #realiza la busqueda recursiva\n",
        "        nonlocal opt_costo, opt_ruta\n",
        "        #no se consideran como variables locales en esta función\n",
        "        if len(ruta) == n:\n",
        "        # comprueba que se han visitado todas las ciudades\n",
        "            costo_actual += calcular_costo(ruta[-1], ruta[0], matriz_costo)\n",
        "             #El simbolo += significa que al numero que ya esta almacenado en la variable de la izquierda, se le suma el nuevo numero que esta a la derecha del mismo\n",
        "             #agregamos el costo de la ultima ciudad en la ruta de vuelta al punto de inicio\n",
        "            if costo_actual < opt_costo:\n",
        "               #comprueba si el costo actual es el mejor costo encontrado hasta ahora\n",
        "                opt_costo = costo_actual\n",
        "                #actualiza el mejor costo actual\n",
        "                opt_ruta = ruta + (ruta[0],)\n",
        "                 #actualiza la mejor ruta agregando la ciudad del inicio al final de la ruta actual\n",
        "                #ya que tenemos que formar un ciclo que regrese al punto incial\n",
        "            return\n",
        "\n",
        "        if costo_actual > OptC:\n",
        "            return\n",
        "\n",
        "        for ciudad in range(n):\n",
        "           #este for recorre las ciudades en un rango de 0 a n-1\n",
        "            if ciudad not in visitadas:\n",
        "              #verificamos que la ciudad actual no ha sido visitada, si ya a sido visitada se omite\n",
        "                nuevo_costo = costo_actual + calcular_costo(ruta[-1], ciudad, matriz_costo) if len(ruta) > 0 else 0\n",
        "                 #Calcula el costo acumulado hasta la ciudad actual, sumando el costo entre la ultima ciudad en la ruta y la ciudad actual\n",
        "                if nuevo_costo < opt_costo:\n",
        "                    _av_aux(ruta + (ciudad,), visitadas.union({ciudad}), nuevo_costo, OptC, Optx, Cl, l + 1)\n",
        "\n",
        "    for ciudad_inicial in range(n):\n",
        "        _av_aux((ciudad_inicial,), {ciudad_inicial}, 0, OptC, Optx, Cl, 0)\n",
        "\n",
        "    return opt_costo, opt_ruta\n",
        "\n",
        "# Ejemplo de uso\n",
        "ciudades = 4\n",
        "matriz_costos = [\n",
        "    [0, 10, 15, 20],\n",
        "    [10, 0, 35, 25],\n",
        "    [15, 35, 0, 30],\n",
        "    [20, 25, 30, 0]\n",
        "]\n",
        "\n",
        "costo_optimo, ruta_optima = agente_viajero_poda(ciudades, matriz_costos)\n",
        "print(\"Costo óptimo:\", costo_optimo)\n",
        "print(\"Ruta óptima:\", ruta_optima)"
      ],
      "metadata": {
        "colab": {
          "base_uri": "https://localhost:8080/"
        },
        "id": "vTcJKoNqICQT",
        "outputId": "a740bfce-3eea-424e-e168-4e262df8a45a"
      },
      "execution_count": 3,
      "outputs": [
        {
          "output_type": "stream",
          "name": "stdout",
          "text": [
            "Costo óptimo: 80\n",
            "Ruta óptima: (0, 1, 3, 2, 0)\n"
          ]
        }
      ]
    }
  ]
}