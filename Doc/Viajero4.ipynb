{
  "nbformat": 4,
  "nbformat_minor": 0,
  "metadata": {
    "colab": {
      "provenance": []
    },
    "kernelspec": {
      "name": "python3",
      "display_name": "Python 3"
    },
    "language_info": {
      "name": "python"
    }
  },
  "cells": [
    {
      "cell_type": "code",
      "execution_count": 1,
      "metadata": {
        "colab": {
          "base_uri": "https://localhost:8080/"
        },
        "id": "HSh4cQW1byYk",
        "outputId": "831f0d3c-8025-4467-b583-79880dff83e7"
      },
      "outputs": [
        {
          "output_type": "stream",
          "name": "stdout",
          "text": [
            "Collecting git+https://github.com/Ana-Karem-Garcia/Math_Travel\n",
            "  Cloning https://github.com/Ana-Karem-Garcia/Math_Travel to /tmp/pip-req-build-bvck7qqo\n",
            "  Running command git clone --filter=blob:none --quiet https://github.com/Ana-Karem-Garcia/Math_Travel /tmp/pip-req-build-bvck7qqo\n",
            "  Resolved https://github.com/Ana-Karem-Garcia/Math_Travel to commit dadcc6a5ccb99bcb6e08c93268dfcb1ac94b3cab\n",
            "  Preparing metadata (setup.py) ... \u001b[?25l\u001b[?25hdone\n",
            "Building wheels for collected packages: MathTravel\n",
            "  Building wheel for MathTravel (setup.py) ... \u001b[?25l\u001b[?25hdone\n",
            "  Created wheel for MathTravel: filename=MathTravel-0.1-py3-none-any.whl size=1622 sha256=91e5da0dc248e4aa30e409011c447ebaaa65ca61cad30541a38c150bd1009a0b\n",
            "  Stored in directory: /tmp/pip-ephem-wheel-cache-gyvfbkx6/wheels/45/60/6c/372a22d665f4fc53759f47ff7c75a3862a3b9b8bef378da294\n",
            "Successfully built MathTravel\n",
            "Installing collected packages: MathTravel\n",
            "Successfully installed MathTravel-0.1\n"
          ]
        }
      ],
      "source": [
        "! pip install git+https://github.com/Ana-Karem-Garcia/Math_Travel"
      ]
    },
    {
      "cell_type": "code",
      "source": [
        "from MathTravel import calcular_costo\n",
        "import numpy as np\n",
        "\n",
        "def generar_matriz_simetrica_con_ceros_enteros(ciudades, rango_inicio=10, rango_fin=100):\n",
        "    # Generar una matriz aleatoria cuadrada de enteros\n",
        "    matriz = np.random.randint(rango_inicio, rango_fin, size=(ciudades, ciudades), dtype=int)\n",
        "\n",
        "    # Hacer la matriz simétrica\n",
        "    matriz_simetrica = (matriz + matriz.T) // 2\n",
        "\n",
        "    # Establecer ceros en la diagonal\n",
        "    np.fill_diagonal(matriz_simetrica, 0)\n",
        "\n",
        "    return matriz_simetrica\n",
        "\n",
        "# Ejemplo de uso:\n",
        "ciudades = 10\n",
        "matriz_costo = generar_matriz_simetrica_con_ceros_enteros(ciudades)\n",
        "\n",
        "def calcular_costo(ciudad1, ciudad2):\n",
        "    # Función para calcular el costo entre dos ciudades\n",
        "    return matriz_costo[ciudad1][ciudad2]\n",
        "\n",
        "def agente_viajero_poda(n, matriz_costo):\n",
        "    #función principal, con n el número total de ciudades, matriz de costos entre ciudades\n",
        "    opt_costo = None\n",
        "    #almacena el mejor costo\n",
        "    opt_ruta = ()\n",
        "    #almacena la mejor ruta encontrada\n",
        "\n",
        "    def _av_aux(ruta, visitadas, costo_actual):\n",
        "      #ruta es una tupla que representa la ruta actual que ha sido recorrida\n",
        "      #visitadas un conjunto que almacena las ciudades ya visitadas\n",
        "      #costo_actual es la costo acumulada recorrida hasta ahora\n",
        "      #realiza la busqueda recursiva\n",
        "        nonlocal opt_costo, opt_ruta\n",
        "        #no se consideran como variables locales en esta función\n",
        "\n",
        "        if len(ruta) == n:\n",
        "            # comprueba que se han visitado todas las ciudades\n",
        "            costo_actual += calcular_costo(ruta[-1], ruta[0])\n",
        "             #El simbolo += significa que al numero que ya esta almacenado en la variable de la izquierda, se le suma el nuevo numero que esta a la derecha del mismo\n",
        "             #agregamos el costo de la ultima ciudad en la ruta de vuelta al punto de inicio\n",
        "            if opt_costo is None or costo_actual < opt_costo:\n",
        "                #comprueba si el costo actual es el mejor costo encontrado hasta ahora\n",
        "                opt_costo = costo_actual\n",
        "                #actualiza el mejor costo actual\n",
        "                opt_ruta = ruta + (ruta[0],)\n",
        "                #actualiza la mejor ruta agregando la ciudad del inicio al final de la ruta actual\n",
        "                #ya que tenemos que formar un ciclo que regrese al punto incial\n",
        "            return\n",
        "\n",
        "        # Tratar el caso especial cuando la longitud de la ruta es cero\n",
        "        if len(ruta) == 0:\n",
        "            for ciudad in range(n):\n",
        "                _av_aux((ciudad,), {ciudad}, 0)\n",
        "        else:\n",
        "            for ciudad in range(n):\n",
        "              #este for recorre las ciudades en un rango de 0 a n-1\n",
        "                if ciudad not in visitadas:\n",
        "                  #verificamos que la ciudad actual no ha sido visitada, si ya a sido visitada se omite\n",
        "                    nuevo_costo = costo_actual + calcular_costo(ruta[-1], ciudad)\n",
        "                    #Calcula el costo acumulado hasta la ciudad actual, sumando el costo entre la ultima ciudad en la ruta y la ciudad actual\n",
        "                    if opt_costo is None or nuevo_costo < opt_costo:\n",
        "                     #comprueba si el costo calculado es el mejor que el mejor costo conocido (opt_costo)\n",
        "                     #la condicion opt_costo is none maneja el caso cuando aun no se ha encontrado ninguna solucion\n",
        "                        _av_aux(ruta + (ciudad,), visitadas.union({ciudad}), nuevo_costo)\n",
        "\n",
        "\n",
        "    # Llamada inicial con la ciudad inicial como punto de partida\n",
        "    _av_aux((), set(), 0)\n",
        "\n",
        "    return opt_costo, opt_ruta\n",
        "\n",
        "\n",
        "costo_optimo, ruta_optima = agente_viajero_poda(ciudades, matriz_costo)\n",
        "print(\"La matriz de costos entre ciudades es:\")\n",
        "print(matriz_costo)\n",
        "print(\"Costo óptimo:\", costo_optimo)\n",
        "print(\"Ruta óptima:\", ruta_optima)"
      ],
      "metadata": {
        "colab": {
          "base_uri": "https://localhost:8080/"
        },
        "id": "mBZkAXh_b1Qh",
        "outputId": "b5eccc3a-a886-4258-8e16-78526bbc5978"
      },
      "execution_count": 5,
      "outputs": [
        {
          "output_type": "stream",
          "name": "stdout",
          "text": [
            "La matriz de costos entre ciudades es:\n",
            "[[ 0 63 66 31 18 49 53 42 32 38]\n",
            " [63  0 49 51 61 20 77 29 48 60]\n",
            " [66 49  0 58 46 86 75 75 64 48]\n",
            " [31 51 58  0 63 73 55 39 48 54]\n",
            " [18 61 46 63  0 68 54 71 35 40]\n",
            " [49 20 86 73 68  0 81 68 46 68]\n",
            " [53 77 75 55 54 81  0 97 62 54]\n",
            " [42 29 75 39 71 68 97  0 35 56]\n",
            " [32 48 64 48 35 46 62 35  0 55]\n",
            " [38 60 48 54 40 68 54 56 55  0]]\n",
            "Costo óptimo: 387\n",
            "Ruta óptima: (0, 4, 2, 9, 6, 3, 7, 1, 5, 8, 0)\n"
          ]
        }
      ]
    }
  ]
}