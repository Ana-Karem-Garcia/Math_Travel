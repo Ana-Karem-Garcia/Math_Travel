{
  "nbformat": 4,
  "nbformat_minor": 0,
  "metadata": {
    "colab": {
      "provenance": []
    },
    "kernelspec": {
      "name": "python3",
      "display_name": "Python 3"
    },
    "language_info": {
      "name": "python"
    }
  },
  "cells": [
    {
      "cell_type": "code",
      "execution_count": null,
      "metadata": {
        "colab": {
          "base_uri": "https://localhost:8080/",
          "height": 140
        },
        "id": "RE5CsXl8RImI",
        "outputId": "60acc90e-5829-46ba-f60c-e909a33b798f"
      },
      "outputs": [
        {
          "output_type": "error",
          "ename": "SyntaxError",
          "evalue": "ignored",
          "traceback": [
            "\u001b[0;36m  File \u001b[0;32m\"<ipython-input-4-849fb2223763>\"\u001b[0;36m, line \u001b[0;32m17\u001b[0m\n\u001b[0;31m    C=costos[]\u001b[0m\n\u001b[0m             ^\u001b[0m\n\u001b[0;31mSyntaxError\u001b[0m\u001b[0;31m:\u001b[0m invalid syntax\n"
          ]
        }
      ],
      "source": [
        "from numpy import np\n",
        "\n",
        "costos=np.array([\n",
        "    [0,10,15],\n",
        "    [10,0,20],\n",
        "    [15,20,0],\n",
        "])\n",
        "\n",
        "def agente_viajero(costos, numciudades):\n",
        "    OptC=9999   #Se da un numero grande porque los gastos no pasan de ese numero y queremos la mas optima\n",
        "    Optx=()\n",
        "    Cl=[]\n",
        "\n",
        "    def viaje(l,curX):\n",
        "        nonlocal OptC, Optx, Cl\n",
        "        if l == numciudades:\n",
        "            C=costos[]"
      ]
    },
    {
      "cell_type": "code",
      "source": [
        "\n",
        "import numpy as np\n",
        "\n",
        "def recorre_ruta(precios_entre_ciudades, n):\n",
        "    Sp = sum([precios_entre_ciudades[i+1][j+2] for i in range(-1, n-3) for j in range(-1, n-3)])\n",
        "    St = Sp + precios_entre_ciudades[n-1][0]\n",
        "    return St\n",
        "\n",
        "a = np.array([\n",
        "    [0, 10,15],\n",
        "    [10,0,20],\n",
        "    [15,20,0]\n",
        "])\n",
        "\n",
        "recorre_ruta(a,3)"
      ],
      "metadata": {
        "colab": {
          "base_uri": "https://localhost:8080/"
        },
        "id": "c2mv1eh6RdaK",
        "outputId": "4b0daef0-991b-4750-c334-338c66090c0e"
      },
      "execution_count": null,
      "outputs": [
        {
          "output_type": "execute_result",
          "data": {
            "text/plain": [
              "25"
            ]
          },
          "metadata": {},
          "execution_count": 3
        }
      ]
    },
    {
      "cell_type": "code",
      "source": [
        "import numpy as np\n",
        "\n",
        "costos=np.array([\n",
        "    [0,10,15],\n",
        "    [10,0,20],\n",
        "    [15,20,0],\n",
        "])\n",
        "\n",
        "def agente_viajero(costos, numciudades):\n",
        "    OptC=9999   #Se da un numero grande porque los gastos no pasan de ese numero y queremos la mas optima\n",
        "    Optx=()\n",
        "    Cl=[]\n",
        "\n",
        "def knapsack_pruning(weights, profits, capacity):\n",
        "    OptC = 9999   #Se da un numero grande porque los gastos no pasan de ese numero y queremos la mas optima\n",
        "    optX = ()     # tupla que representa la configuración óptima, 1 O 0\n",
        "    Cl = []\n",
        "\n",
        "    def _knapaux(l, curX, curW):\n",
        "        nonlocal optP, optX, curP, Cl\n",
        "        if l == n:\n",
        "            if sum([profits[i]*curX[i] for i in range(n)]) > optP:\n",
        "                optP = sum([profits[i]*curX[i] for i in range(n)])\n",
        "                optX = curX\n",
        "            Cl = []\n",
        "        else:\n",
        "            if curW + weights[l] <= capacity:\n",
        "                Cl = [1, 0]\n",
        "            else:\n",
        "                Cl = [0]\n",
        "            for x in Cl:\n",
        "                _knapaux(l+1, curX + (x,), curW + weights[l]*x)\n",
        "\n",
        "    _knapaux(0, (), 0)\n",
        "    return optP, optX\n",
        "\n",
        "knapsack_pruning(my_weights, my_profits, 20)"
      ],
      "metadata": {
        "colab": {
          "base_uri": "https://localhost:8080/",
          "height": 140
        },
        "id": "qi6PcBI6WOCc",
        "outputId": "bc1919d7-c449-41c1-bbbf-3a9f51ebbb17"
      },
      "execution_count": 1,
      "outputs": [
        {
          "output_type": "error",
          "ename": "SyntaxError",
          "evalue": "ignored",
          "traceback": [
            "\u001b[0;36m  File \u001b[0;32m\"<ipython-input-1-b50f53d0454c>\"\u001b[0;36m, line \u001b[0;32m20\u001b[0m\n\u001b[0;31m    nonlocal optP, optX, curP, Cl\u001b[0m\n\u001b[0m    ^\u001b[0m\n\u001b[0;31mSyntaxError\u001b[0m\u001b[0;31m:\u001b[0m no binding for nonlocal 'optP' found\n"
          ]
        }
      ]
    }
  ]
}