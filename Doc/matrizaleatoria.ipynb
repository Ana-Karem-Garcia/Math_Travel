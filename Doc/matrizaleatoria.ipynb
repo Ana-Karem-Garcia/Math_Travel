{
  "nbformat": 4,
  "nbformat_minor": 0,
  "metadata": {
    "colab": {
      "provenance": []
    },
    "kernelspec": {
      "name": "python3",
      "display_name": "Python 3"
    },
    "language_info": {
      "name": "python"
    }
  },
  "cells": [
    {
      "cell_type": "markdown",
      "source": [
        "Función para generar una matriz aleatoria"
      ],
      "metadata": {
        "id": "QXHDjitsKp2M"
      }
    },
    {
      "cell_type": "code",
      "source": [
        "import numpy as np\n",
        "\n",
        "def generar_matriz_simetrica_con_ceros_enteros(tamaño, rango_inicio=10, rango_fin=100):\n",
        "    # Generar una matriz aleatoria cuadrada de enteros\n",
        "    matriz = np.random.randint(rango_inicio, rango_fin, size=(tamaño, tamaño), dtype=int)\n",
        "\n",
        "    # Hacer la matriz simétrica\n",
        "    matriz_simetrica = (matriz + matriz.T)\n",
        "\n",
        "    # Establecer ceros en la diagonal\n",
        "    np.fill_diagonal(matriz_simetrica, 0)\n",
        "\n",
        "    return matriz_simetrica\n",
        "\n",
        "# Ejemplo de uso:\n",
        "tamaño = 5\n",
        "matriz_simetrica_ceros_enteros = generar_matriz_simetrica_con_ceros_enteros(tamaño)\n",
        "\n",
        "print(\"Matriz Simétrica con Ceros en la Diagonal (enteros):\")\n",
        "print(matriz_simetrica_ceros_enteros)\n"
      ],
      "metadata": {
        "colab": {
          "base_uri": "https://localhost:8080/"
        },
        "id": "l8tAC4h7yRcz",
        "outputId": "d0fde675-e761-4ed8-ff71-13047b451fe2"
      },
      "execution_count": 4,
      "outputs": [
        {
          "output_type": "stream",
          "name": "stdout",
          "text": [
            "Matriz Simétrica con Ceros en la Diagonal (enteros):\n",
            "[[  0 104 121  81 146]\n",
            " [104   0 189  90  31]\n",
            " [121 189   0  83 106]\n",
            " [ 81  90  83   0 102]\n",
            " [146  31 106 102   0]]\n"
          ]
        }
      ]
    },
    {
      "cell_type": "code",
      "source": [
        "import numpy as np\n",
        "\n",
        "def generar_matriz_simetrica_con_ceros_enteros(tamaño, rango_inicio=10, rango_fin=100):\n",
        "    # Generar una matriz aleatoria cuadrada de enteros\n",
        "    matriz = np.random.randint(rango_inicio, rango_fin, size=(tamaño, tamaño), dtype=int)\n",
        "\n",
        "    # Hacer la matriz simétrica\n",
        "    matriz_simetrica = (matriz + matriz.T) // 2  # Corregir la simetría\n",
        "\n",
        "    # Establecer ceros en la diagonal\n",
        "    np.fill_diagonal(matriz_simetrica, 0)\n",
        "\n",
        "    return matriz_simetrica\n",
        "\n",
        "# Ejemplo de uso:\n",
        "tamaño = 5\n",
        "matriz_simetrica_ceros_enteros = generar_matriz_simetrica_con_ceros_enteros(tamaño)\n",
        "\n",
        "print(\"Matriz Simétrica con Ceros en la Diagonal (enteros):\")\n",
        "# Imprimir la matriz con comas\n",
        "\n",
        "for fila in matriz_simetrica_ceros_enteros:\n",
        "    # Itera sobre cada fila en la matriz\n",
        "\n",
        "    # Utiliza map(str, fila) para convertir cada elemento de la fila en cadena\n",
        "    # Luego, utiliza \", \".join(...) para unir esos elementos con comas\n",
        "    fila_coma_separada = \", \".join(map(str, fila))\n",
        "\n",
        "    # Imprime la fila con comas entre cada elemento\n",
        "    print(fila_coma_separada)\n",
        ""
      ],
      "metadata": {
        "id": "UG0tAVTdPbHR",
        "colab": {
          "base_uri": "https://localhost:8080/"
        },
        "outputId": "f31b469f-e514-4626-da15-00232d6f7cc9"
      },
      "execution_count": 2,
      "outputs": [
        {
          "output_type": "stream",
          "name": "stdout",
          "text": [
            "Matriz Simétrica con Ceros en la Diagonal (enteros):\n",
            "0, 79, 47, 45, 42\n",
            "79, 0, 73, 51, 30\n",
            "47, 73, 0, 40, 30\n",
            "45, 51, 40, 0, 49\n",
            "42, 30, 30, 49, 0\n"
          ]
        }
      ]
    }
  ]
}