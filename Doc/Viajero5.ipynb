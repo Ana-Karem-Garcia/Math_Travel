{
  "nbformat": 4,
  "nbformat_minor": 0,
  "metadata": {
    "colab": {
      "provenance": []
    },
    "kernelspec": {
      "name": "python3",
      "display_name": "Python 3"
    },
    "language_info": {
      "name": "python"
    }
  },
  "cells": [
    {
      "cell_type": "code",
      "execution_count": 1,
      "metadata": {
        "colab": {
          "base_uri": "https://localhost:8080/"
        },
        "id": "KRpjU25BGZ3_",
        "outputId": "7ef3b7c8-28ce-42f4-e065-8e294de25c55"
      },
      "outputs": [
        {
          "output_type": "stream",
          "name": "stdout",
          "text": [
            "Collecting git+https://github.com/Ana-Karem-Garcia/Math_Travel\n",
            "  Cloning https://github.com/Ana-Karem-Garcia/Math_Travel to /tmp/pip-req-build-8b8ew3t2\n",
            "  Running command git clone --filter=blob:none --quiet https://github.com/Ana-Karem-Garcia/Math_Travel /tmp/pip-req-build-8b8ew3t2\n",
            "  Resolved https://github.com/Ana-Karem-Garcia/Math_Travel to commit 6a97b6fecdc9a52255263c3e9af0618a1c31cda5\n",
            "  Preparing metadata (setup.py) ... \u001b[?25l\u001b[?25hdone\n",
            "Building wheels for collected packages: MathTravel\n",
            "  Building wheel for MathTravel (setup.py) ... \u001b[?25l\u001b[?25hdone\n",
            "  Created wheel for MathTravel: filename=MathTravel-0.1-py3-none-any.whl size=2229 sha256=a0b3bfbb526e3b8e292941bdbc291297030dc7247f3563a2d2afd88dd9f10aef\n",
            "  Stored in directory: /tmp/pip-ephem-wheel-cache-oxbo64xe/wheels/45/60/6c/372a22d665f4fc53759f47ff7c75a3862a3b9b8bef378da294\n",
            "Successfully built MathTravel\n",
            "Installing collected packages: MathTravel\n",
            "Successfully installed MathTravel-0.1\n"
          ]
        }
      ],
      "source": [
        "! pip install git+https://github.com/Ana-Karem-Garcia/Math_Travel"
      ]
    },
    {
      "cell_type": "code",
      "source": [
        "from MathTravel import calcular_costo\n",
        "from MathTravel import generar_matriz\n",
        "\n",
        "ciudades = 10\n",
        "matriz_costo = generar_matriz(ciudades)\n",
        "\n",
        "def calcular_costo(ciudad1, ciudad2):\n",
        "    return matriz_costo[ciudad1][ciudad2]\n",
        "\n",
        "def agente_viajero_poda(n, matriz_costo):\n",
        "    #función principal, con n el número total de ciudades, matriz de costos entre ciudades\n",
        "    opt_costo = None\n",
        "    #almacena el mejor costo\n",
        "    opt_ruta = ()\n",
        "    #almacena la mejor ruta encontrada\n",
        "\n",
        "    def _av_aux(ruta, visitadas, costo_actual):\n",
        "      #ruta es una tupla que representa la ruta actual que ha sido recorrida\n",
        "      #visitadas un conjunto que almacena las ciudades ya visitadas\n",
        "      #costo_actual es la costo acumulada recorrida hasta ahora\n",
        "      #realiza la busqueda recursiva\n",
        "        nonlocal opt_costo, opt_ruta\n",
        "        #no se consideran como variables locales en esta función\n",
        "\n",
        "        if len(ruta) == n:\n",
        "            # comprueba que se han visitado todas las ciudades\n",
        "            costo_actual += calcular_costo(ruta[-1], ruta[0])\n",
        "             #El simbolo += significa que al numero que ya esta almacenado en la variable de la izquierda, se le suma el nuevo numero que esta a la derecha del mismo\n",
        "             #agregamos el costo de la ultima ciudad en la ruta de vuelta al punto de inicio\n",
        "            if opt_costo is None or costo_actual < opt_costo:\n",
        "                #comprueba si el costo actual es el mejor costo encontrado hasta ahora\n",
        "                opt_costo = costo_actual\n",
        "                #actualiza el mejor costo actual\n",
        "                opt_ruta = ruta + (ruta[0],)\n",
        "                #actualiza la mejor ruta agregando la ciudad del inicio al final de la ruta actual\n",
        "                #ya que tenemos que formar un ciclo que regrese al punto incial\n",
        "            return\n",
        "\n",
        "        # Tratar el caso especial cuando la longitud de la ruta es cero\n",
        "        if len(ruta) == 0:\n",
        "            for ciudad in range(n):\n",
        "                _av_aux((ciudad,), {ciudad}, 0)\n",
        "        else:\n",
        "            for ciudad in range(n):\n",
        "              #este for recorre las ciudades en un rango de 0 a n-1\n",
        "                if ciudad not in visitadas:\n",
        "                  #verificamos que la ciudad actual no ha sido visitada, si ya a sido visitada se omite\n",
        "                    nuevo_costo = costo_actual + calcular_costo(ruta[-1], ciudad)\n",
        "                    #Calcula el costo acumulado hasta la ciudad actual, sumando el costo entre la ultima ciudad en la ruta y la ciudad actual\n",
        "                    if opt_costo is None or nuevo_costo < opt_costo:\n",
        "                     #comprueba si el costo calculado es el mejor que el mejor costo conocido (opt_costo)\n",
        "                     #la condicion opt_costo is none maneja el caso cuando aun no se ha encontrado ninguna solucion\n",
        "                        _av_aux(ruta + (ciudad,), visitadas.union({ciudad}), nuevo_costo)\n",
        "\n",
        "\n",
        "    # Llamada inicial con la ciudad inicial como punto de partida\n",
        "    _av_aux((), set(), 0)\n",
        "\n",
        "    return opt_costo, opt_ruta\n",
        "\n",
        "\n",
        "costo_optimo, ruta_optima = agente_viajero_poda(ciudades, matriz_costo)\n",
        "print(\"La matriz de costos entre ciudades es:\")\n",
        "print(matriz_costo)\n",
        "print(\"Costo óptimo:\", costo_optimo)\n",
        "print(\"Ruta óptima:\", ruta_optima)"
      ],
      "metadata": {
        "colab": {
          "base_uri": "https://localhost:8080/"
        },
        "id": "ElJ0eh8lGmdk",
        "outputId": "5e30b6d3-c1c7-4ed4-a3a9-6a39f240685d"
      },
      "execution_count": 3,
      "outputs": [
        {
          "output_type": "stream",
          "name": "stdout",
          "text": [
            "La matriz de costos entre ciudades es:\n",
            "[[ 0 58 18 64 46 40 79 67 22 56]\n",
            " [58  0 80 76 60 44 48 42 36 38]\n",
            " [18 80  0 68 52 46 69 75 55 60]\n",
            " [64 76 68  0 61 59 32 79 38 65]\n",
            " [46 60 52 61  0 44 25 70 47 75]\n",
            " [40 44 46 59 44  0 57 31 22 72]\n",
            " [79 48 69 32 25 57  0 50 90 75]\n",
            " [67 42 75 79 70 31 50  0 48 35]\n",
            " [22 36 55 38 47 22 90 48  0 57]\n",
            " [56 38 60 65 75 72 75 35 57  0]]\n",
            "Costo óptimo: 345\n",
            "Ruta óptima: (0, 2, 4, 6, 3, 8, 1, 9, 7, 5, 0)\n"
          ]
        }
      ]
    }
  ]
}