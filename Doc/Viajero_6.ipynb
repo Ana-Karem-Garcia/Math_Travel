{
  "nbformat": 4,
  "nbformat_minor": 0,
  "metadata": {
    "colab": {
      "provenance": []
    },
    "kernelspec": {
      "name": "python3",
      "display_name": "Python 3"
    },
    "language_info": {
      "name": "python"
    }
  },
  "cells": [
    {
      "cell_type": "code",
      "execution_count": 1,
      "metadata": {
        "colab": {
          "base_uri": "https://localhost:8080/"
        },
        "id": "HMlOXtmnkvQ6",
        "outputId": "a8999ad0-dcc0-4d28-d0eb-2fc3f44db3b9"
      },
      "outputs": [
        {
          "output_type": "stream",
          "name": "stdout",
          "text": [
            "Collecting git+https://github.com/Ana-Karem-Garcia/Math_Travel\n",
            "  Cloning https://github.com/Ana-Karem-Garcia/Math_Travel to /tmp/pip-req-build-8solilby\n",
            "  Running command git clone --filter=blob:none --quiet https://github.com/Ana-Karem-Garcia/Math_Travel /tmp/pip-req-build-8solilby\n",
            "  Resolved https://github.com/Ana-Karem-Garcia/Math_Travel to commit cfbcf9ee04527d4c7d55eb8efba73e996f83418d\n",
            "  Preparing metadata (setup.py) ... \u001b[?25l\u001b[?25hdone\n",
            "Building wheels for collected packages: MathTravel\n",
            "  Building wheel for MathTravel (setup.py) ... \u001b[?25l\u001b[?25hdone\n",
            "  Created wheel for MathTravel: filename=MathTravel-0.1-py3-none-any.whl size=2229 sha256=d0a800e572cdb59201976c8dda0f05da5bb5f050d7a3912be4c93e05ab5c8518\n",
            "  Stored in directory: /tmp/pip-ephem-wheel-cache-wg4cnto5/wheels/45/60/6c/372a22d665f4fc53759f47ff7c75a3862a3b9b8bef378da294\n",
            "Successfully built MathTravel\n",
            "Installing collected packages: MathTravel\n",
            "Successfully installed MathTravel-0.1\n"
          ]
        }
      ],
      "source": [
        "! pip install git+https://github.com/Ana-Karem-Garcia/Math_Travel"
      ]
    },
    {
      "cell_type": "code",
      "source": [
        "from MathTravel import calcular_costo\n",
        "\n",
        "ciudades = eval(input('El numero de ciudades es: '))\n",
        "matriz_costo = eval(input('La matriz de costos es: '))\n",
        "\n",
        "def calcular_costo(ciudad1, ciudad2):\n",
        "    return matriz_costo[ciudad1][ciudad2]\n",
        "\n",
        "def agente_viajero_poda(n, matriz_costo):\n",
        "    #función principal, con n el número total de ciudades, matriz de costos entre ciudades\n",
        "    opt_costo = None\n",
        "    #almacena el mejor costo\n",
        "    opt_ruta = ()\n",
        "    #almacena la mejor ruta encontrada\n",
        "\n",
        "    def _av_aux(ruta, visitadas, costo_actual):\n",
        "      #ruta es una tupla que representa la ruta actual que ha sido recorrida\n",
        "      #visitadas un conjunto que almacena las ciudades ya visitadas\n",
        "      #costo_actual es la costo acumulada recorrida hasta ahora\n",
        "      #realiza la busqueda recursiva\n",
        "        nonlocal opt_costo, opt_ruta\n",
        "        #no se consideran como variables locales en esta función\n",
        "\n",
        "        if len(ruta) == n:\n",
        "            # comprueba que se han visitado todas las ciudades\n",
        "            costo_actual += calcular_costo(ruta[-1], ruta[0])\n",
        "             #El simbolo += significa que al numero que ya esta almacenado en la variable de la izquierda, se le suma el nuevo numero que esta a la derecha del mismo\n",
        "             #agregamos el costo de la ultima ciudad en la ruta de vuelta al punto de inicio\n",
        "            if opt_costo is None or costo_actual < opt_costo:\n",
        "                #comprueba si el costo actual es el mejor costo encontrado hasta ahora\n",
        "                opt_costo = costo_actual\n",
        "                #actualiza el mejor costo actual\n",
        "                opt_ruta = ruta + (ruta[0],)\n",
        "                #actualiza la mejor ruta agregando la ciudad del inicio al final de la ruta actual\n",
        "                #ya que tenemos que formar un ciclo que regrese al punto incial\n",
        "            return\n",
        "\n",
        "        # Tratar el caso especial cuando la longitud de la ruta es cero\n",
        "        if len(ruta) == 0:\n",
        "            for ciudad in range(n):\n",
        "                _av_aux((ciudad,), {ciudad}, 0)\n",
        "        else:\n",
        "            for ciudad in range(n):\n",
        "              #este for recorre las ciudades en un rango de 0 a n-1\n",
        "                if ciudad not in visitadas:\n",
        "                  #verificamos que la ciudad actual no ha sido visitada, si ya a sido visitada se omite\n",
        "                    nuevo_costo = costo_actual + calcular_costo(ruta[-1], ciudad)\n",
        "                    #Calcula el costo acumulado hasta la ciudad actual, sumando el costo entre la ultima ciudad en la ruta y la ciudad actual\n",
        "                    if opt_costo is None or nuevo_costo < opt_costo:\n",
        "                     #comprueba si el costo calculado es el mejor que el mejor costo conocido (opt_costo)\n",
        "                     #la condicion opt_costo is none maneja el caso cuando aun no se ha encontrado ninguna solucion\n",
        "                        _av_aux(ruta + (ciudad,), visitadas.union({ciudad}), nuevo_costo)\n",
        "\n",
        "\n",
        "    # Llamada inicial con la ciudad inicial como punto de partida\n",
        "    _av_aux((), set(), 0)\n",
        "\n",
        "    return opt_costo, opt_ruta\n",
        "\n",
        "\n",
        "costo_optimo, ruta_optima = agente_viajero_poda(ciudades, matriz_costo)\n",
        "print(\"Costo óptimo:\", costo_optimo)\n",
        "print(\"Ruta óptima:\", ruta_optima)"
      ],
      "metadata": {
        "colab": {
          "base_uri": "https://localhost:8080/"
        },
        "id": "Ps0n2xYzkwF2",
        "outputId": "210e7129-b8a5-407f-ff1a-43e5ee84d463"
      },
      "execution_count": 3,
      "outputs": [
        {
          "output_type": "stream",
          "name": "stdout",
          "text": [
            "El numero de ciudades es: 10\n",
            "La matriz de costos es: [[0,20,61,55,43,51,30,78,33,22] ,[20,0,92,70,56,69,17,49,20,22] ,[61,92,0,41,71,50,85,73,59,70] ,[55,70,41,0,34,50,49,83,66,57] ,[43,56,71,34,0,81,58,65,62,49] ,[51,69,50,50,81,0,61,31,87,85] ,[30,17,85,49,58,61,0,54,60,48] ,[78,49,73,83,65,31,54,0,55,40] ,[33,20,59,66,62,87,60,55,0,58] ,[22,22,70,57,49,85,48,40,58,0]]\n",
            "Costo óptimo: 346\n",
            "Ruta óptima: (0, 8, 1, 6, 4, 3, 2, 5, 7, 9, 0)\n"
          ]
        }
      ]
    }
  ]
}