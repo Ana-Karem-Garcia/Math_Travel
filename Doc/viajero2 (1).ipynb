{
  "nbformat": 4,
  "nbformat_minor": 0,
  "metadata": {
    "colab": {
      "provenance": []
    },
    "kernelspec": {
      "name": "python3",
      "display_name": "Python 3"
    },
    "language_info": {
      "name": "python"
    }
  },
  "cells": [
    {
      "cell_type": "code",
      "execution_count": null,
      "metadata": {
        "colab": {
          "base_uri": "https://localhost:8080/",
          "height": 140
        },
        "id": "RE5CsXl8RImI",
        "outputId": "60acc90e-5829-46ba-f60c-e909a33b798f"
      },
      "outputs": [
        {
          "output_type": "error",
          "ename": "SyntaxError",
          "evalue": "ignored",
          "traceback": [
            "\u001b[0;36m  File \u001b[0;32m\"<ipython-input-4-849fb2223763>\"\u001b[0;36m, line \u001b[0;32m17\u001b[0m\n\u001b[0;31m    C=costos[]\u001b[0m\n\u001b[0m             ^\u001b[0m\n\u001b[0;31mSyntaxError\u001b[0m\u001b[0;31m:\u001b[0m invalid syntax\n"
          ]
        }
      ],
      "source": [
        "from numpy import np\n",
        "\n",
        "costos=np.array([\n",
        "    [0,10,15],\n",
        "    [10,0,20],\n",
        "    [15,20,0],\n",
        "])\n",
        "\n",
        "def agente_viajero(costos, numciudades):\n",
        "    OptC=9999   #Se da un numero grande porque los gastos no pasan de ese numero y queremos la mas optima\n",
        "    Optx=()\n",
        "    Cl=[]\n",
        "\n",
        "    def viaje(l,curX):\n",
        "        nonlocal OptC, Optx, Cl\n",
        "        if l == numciudades:\n",
        "            C=costos[]"
      ]
    },
    {
      "cell_type": "code",
      "source": [
        "\n",
        "import numpy as np\n",
        "\n",
        "def recorre_ruta(precios_entre_ciudades, n):\n",
        "    Sp = sum([precios_entre_ciudades[i+1][j+2] for i in range(-1, n-3) for j in range(-1, n-3)])\n",
        "    St = Sp + precios_entre_ciudades[n-1][0]\n",
        "    return St\n",
        "\n",
        "a = np.array([\n",
        "    [0, 10,15],\n",
        "    [10,0,20],\n",
        "    [15,20,0]\n",
        "])\n",
        "\n",
        "recorre_ruta(a,3)"
      ],
      "metadata": {
        "colab": {
          "base_uri": "https://localhost:8080/"
        },
        "id": "c2mv1eh6RdaK",
        "outputId": "4b0daef0-991b-4750-c334-338c66090c0e"
      },
      "execution_count": null,
      "outputs": [
        {
          "output_type": "execute_result",
          "data": {
            "text/plain": [
              "25"
            ]
          },
          "metadata": {},
          "execution_count": 3
        }
      ]
    },
    {
      "cell_type": "code",
      "source": [
        "def calcular_distancia(ciudad1, ciudad2, matriz_distancias):\n",
        "    return matriz_distancias[ciudad1][ciudad2]\n",
        "\n",
        "def agente_viajero_poda(n, matriz_distancias):\n",
        "    opt_distancia = float('inf')\n",
        "    opt_ruta = ()\n",
        "    OptC = 9999\n",
        "    Optx = ()\n",
        "    Cl = []\n",
        "\n",
        "    def _av_aux(ruta, visitadas, distancia_actual, OptC, Optx, Cl, l):\n",
        "        nonlocal opt_distancia, opt_ruta\n",
        "        if len(ruta) == n:\n",
        "            distancia_actual += calcular_distancia(ruta[-1], ruta[0], matriz_distancias)\n",
        "            if distancia_actual < opt_distancia:\n",
        "                opt_distancia = distancia_actual\n",
        "                opt_ruta = ruta + (ruta[0],)\n",
        "            return\n",
        "\n",
        "        if distancia_actual > OptC:\n",
        "            return\n",
        "\n",
        "        for ciudad in range(n):\n",
        "            if ciudad not in visitadas:\n",
        "                nueva_distancia = distancia_actual + calcular_distancia(ruta[-1], ciudad, matriz_distancias) if len(ruta) > 0 else 0\n",
        "                if nueva_distancia < opt_distancia:\n",
        "                    _av_aux(ruta + (ciudad,), visitadas.union({ciudad}), nueva_distancia, OptC, Optx, Cl, l + 1)\n",
        "\n",
        "    for ciudad_inicial in range(n):\n",
        "        _av_aux((ciudad_inicial,), {ciudad_inicial}, 0, OptC, Optx, Cl, 0)\n",
        "\n",
        "    return opt_distancia, opt_ruta\n",
        "\n",
        "# Ejemplo de uso\n",
        "ciudades = 4\n",
        "matriz_distancias = [\n",
        "    [0, 10, 15, 20],\n",
        "    [10, 0, 35, 25],\n",
        "    [15, 35, 0, 30],\n",
        "    [20, 25, 30, 0]\n",
        "]\n",
        "\n",
        "distancia_optima, ruta_optima = agente_viajero_poda(ciudades, matriz_distancias)\n",
        "print(\"Distancia óptima:\", distancia_optima)\n",
        "print(\"Ruta óptima:\", ruta_optima)"
      ],
      "metadata": {
        "colab": {
          "base_uri": "https://localhost:8080/"
        },
        "id": "LOI-TgkZ9esj",
        "outputId": "aaa6ae49-ad3a-4ab5-e5c5-d879c1cfa1b2"
      },
      "execution_count": 11,
      "outputs": [
        {
          "output_type": "stream",
          "name": "stdout",
          "text": [
            "Distancia óptima: 80\n",
            "Ruta óptima: (0, 1, 3, 2, 0)\n"
          ]
        }
      ]
    }
  ]
}