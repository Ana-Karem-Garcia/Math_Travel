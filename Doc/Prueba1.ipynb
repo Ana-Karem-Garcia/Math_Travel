{
  "nbformat": 4,
  "nbformat_minor": 0,
  "metadata": {
    "colab": {
      "provenance": []
    },
    "kernelspec": {
      "name": "python3",
      "display_name": "Python 3"
    },
    "language_info": {
      "name": "python"
    }
  },
  "cells": [
    {
      "cell_type": "code",
      "source": [
        "def calcular_distancia(ciudad1, ciudad2):\n",
        "    # Función para calcular la distancia entre dos ciudades (puedes personalizar según tu necesidad)\n",
        "    return matriz_distancias[ciudad1][ciudad2]\n",
        "\n",
        "def agente_viajero_poda(n, matriz_distancias):\n",
        "    #función principal, con n el número total de ciudades, matriz de distancia entre ciudades\n",
        "    opt_distancia = None\n",
        "    #almacena la mejor distancia\n",
        "    opt_ruta = ()\n",
        "    #almacena la mejor ruta encontrada\n",
        "\n",
        "    def _av_aux(ruta, visitadas, distancia_actual):\n",
        "      #ruta es una tupla que representa la ruta actual que ha sido recorrida\n",
        "      #visitantes un conjunto que almacena las ciudades ya visitadas\n",
        "      #distancia actual es la distancia acumulada recorrida hasta ahora\n",
        "      #realiza la busqueda recursiva\n",
        "        nonlocal opt_distancia, opt_ruta\n",
        "        #no se consideran como variables locales en esta función\n",
        "\n",
        "        if len(ruta) == n:\n",
        "            # comprueba que se han visitado todas las ciudades\n",
        "            distancia_actual += calcular_distancia(ruta[-1], ruta[0])\n",
        "             #agremos la distancia de la ultima ciudad en la ruta de vuelta al punto de inicio\n",
        "            if opt_distancia is None or distancia_actual < opt_distancia:\n",
        "                #comprueba si la distancia actual es la mejor distancia encontrada hasta ahora\n",
        "                opt_distancia = distancia_actual\n",
        "                #actualiza la mejor distancia actual\n",
        "                opt_ruta = ruta + (ruta[0],)\n",
        "                #actualiza la mejor ruta agregando la ciudad del inicio al final de la ruta actual\n",
        "                #ya que tenemos que formar un ciclo que regrese al punto incial\n",
        "            return\n",
        "\n",
        "        # Tratar el caso especial cuando la longitud de la ruta es cero\n",
        "        if len(ruta) == 0:\n",
        "            for ciudad in range(n):\n",
        "                _av_aux((ciudad,), {ciudad}, 0)\n",
        "        else:\n",
        "            for ciudad in range(n):\n",
        "              #este for recorre las ciudades en un rango de 0 a n-1\n",
        "                if ciudad not in visitadas:\n",
        "                  #verificamos que la ciudad actual no ha sido visitada, si ya a sido visitada se omite\n",
        "                    nueva_distancia = distancia_actual + calcular_distancia(ruta[-1], ciudad)\n",
        "                    #Calcula la distancia acumulada hasta la ciudad actual, sumando la distancia entre la ultima ciudad en la ruta y la ciudad actual\n",
        "                    if opt_distancia is None or nueva_distancia < opt_distancia:\n",
        "                     #comprueba si la distancia calculada es la mejor que la mejor distancia conocida (opt_distancia)\n",
        "                     #la condicion opt_distancia is none maneja el caso cuando aun no se ha encontrado ninguna solucion\n",
        "                        _av_aux(ruta + (ciudad,), visitadas.union({ciudad}), nueva_distancia)\n",
        "\n",
        "\n",
        "    # Llamada inicial con la ciudad inicial como punto de partida\n",
        "    _av_aux((), set(), 0)\n",
        "\n",
        "    return opt_distancia, opt_ruta\n",
        "\n",
        "# Ejemplo de uso\n",
        "ciudades = 4\n",
        "matriz_distancias = [\n",
        "    [0, 10, 15, 20],\n",
        "    [10, 0, 35, 25],\n",
        "    [15, 35, 0, 30],\n",
        "    [20, 25, 30, 0]\n",
        "]\n",
        "\n",
        "distancia_optima, ruta_optima = agente_viajero_poda(ciudades, matriz_distancias)\n",
        "print(\"Distancia óptima:\", distancia_optima)\n",
        "print(\"Ruta óptima:\", ruta_optima)"
      ],
      "metadata": {
        "id": "QqNfhDnbNsD7",
        "colab": {
          "base_uri": "https://localhost:8080/"
        },
        "outputId": "ff0bface-8831-402b-cae7-344af4e8d197"
      },
      "execution_count": null,
      "outputs": [
        {
          "output_type": "stream",
          "name": "stdout",
          "text": [
            "Distancia óptima: 80\n",
            "Ruta óptima: (0, 1, 3, 2, 0)\n"
          ]
        }
      ]
    }
  ]
}