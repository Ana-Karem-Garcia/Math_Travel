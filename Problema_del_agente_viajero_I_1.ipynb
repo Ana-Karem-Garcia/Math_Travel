{
  "nbformat": 4,
  "nbformat_minor": 0,
  "metadata": {
    "colab": {
      "provenance": [],
      "authorship_tag": "ABX9TyPn8zASDIGioeb8pclPDQTU",
      "include_colab_link": true
    },
    "kernelspec": {
      "name": "python3",
      "display_name": "Python 3"
    },
    "language_info": {
      "name": "python"
    }
  },
  "cells": [
    {
      "cell_type": "markdown",
      "metadata": {
        "id": "view-in-github",
        "colab_type": "text"
      },
      "source": [
        "<a href=\"https://colab.research.google.com/github/Ana-Karem-Garcia/Math_Travel/blob/main/Problema_del_agente_viajero_I_1.ipynb\" target=\"_parent\"><img src=\"https://colab.research.google.com/assets/colab-badge.svg\" alt=\"Open In Colab\"/></a>"
      ]
    },
    {
      "cell_type": "markdown",
      "source": [
        "Inicio del problema del agente viajero usando backtracking"
      ],
      "metadata": {
        "id": "AfqjyZ5bz-mz"
      }
    },
    {
      "cell_type": "code",
      "execution_count": null,
      "metadata": {
        "id": "rjBcthv9zqnZ"
      },
      "outputs": [],
      "source": []
    }
  ]
}